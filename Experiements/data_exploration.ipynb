{
 "cells": [
  {
   "cell_type": "code",
   "execution_count": null,
   "id": "858162be",
   "metadata": {},
   "outputs": [],
   "source": [
    "import pandas as pd\n",
    "\n",
    "# Load dataset\n",
    "df = pd.read_csv(\"Dataset.csv\")\n",
    "\n",
    "# Convert appropriate columns to numeric (if wrongly typed as object)\n",
    "numeric_candidates = [\n",
    "    'Client_Income', 'Credit_Amount', 'Loan_Annuity', 'Age_Days',\n",
    "    'Employed_Days', 'Registration_Days', 'ID_Days', 'Score_Source_3'\n",
    "]\n",
    "for col in numeric_candidates:\n",
    "    df[col] = pd.to_numeric(df[col], errors='coerce')\n",
    "\n",
    "# Redefine numerical and categorical columns\n",
    "numerical_cols = df.select_dtypes(include=['int64', 'float64']).columns.tolist()\n",
    "categorical_cols = df.select_dtypes(include=['object', 'category']).columns.tolist()\n",
    "\n",
    "# ---- Numerical Stats Grouped by Default ----\n",
    "numerical_stats = df.groupby('Default')[numerical_cols].agg(['mean', 'median', 'std', 'min', 'max'])\n",
    "\n",
    "# ---- Categorical Stats Grouped by Default ----\n",
    "categorical_stats = {}\n",
    "for col in categorical_cols:\n",
    "    try:\n",
    "        cat_summary = df.groupby('Default')[col].value_counts().unstack().fillna(0).astype(int)\n",
    "        categorical_stats[col] = cat_summary\n",
    "    except Exception as e:\n",
    "        print(f\"Skipped {col} due to error: {e}\")\n",
    "\n",
    "# Show numerical stats\n",
    "print(\"\\n===== Numerical Features Summary by Default =====\\n\")\n",
    "print(numerical_stats)\n",
    "\n",
    "# Show categorical stats\n",
    "print(\"\\n===== Categorical Features Summary by Default =====\\n\")\n",
    "for col, stats_df in categorical_stats.items():\n",
    "    print(f\"\\n--- {col} ---\")\n",
    "    print(stats_df)\n"
   ]
  }
 ],
 "metadata": {
  "kernelspec": {
   "display_name": "enve",
   "language": "python",
   "name": "python3"
  },
  "language_info": {
   "name": "python",
   "version": "3.10.17"
  }
 },
 "nbformat": 4,
 "nbformat_minor": 5
}
